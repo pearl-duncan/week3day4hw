{
 "cells": [
  {
   "cell_type": "markdown",
   "metadata": {},
   "source": [
    "# Regular Expressions"
   ]
  },
  {
   "cell_type": "markdown",
   "metadata": {},
   "source": [
    "# Tasks today:\n",
    "1) <b>Importing</b> <br>\n",
    "2) <b>Using Regular Expressions</b> <br>\n",
    " &nbsp;&nbsp;&nbsp;&nbsp; a) re.compile() <br>\n",
    " &nbsp;&nbsp;&nbsp;&nbsp; b) re.match() <br>\n",
    " &nbsp;&nbsp;&nbsp;&nbsp; c) re.findall() <br>\n",
    " &nbsp;&nbsp;&nbsp;&nbsp; d) re.search() <br>\n",
    "3) <b>Sets</b> <br>\n",
    " &nbsp;&nbsp;&nbsp;&nbsp; a) Integer Ranges <br>\n",
    " &nbsp;&nbsp;&nbsp;&nbsp; b) Character Ranges <br>\n",
    "4) <b>Counting Occurences</b> <br>\n",
    " &nbsp;&nbsp;&nbsp;&nbsp; a) {x} <br>\n",
    " &nbsp;&nbsp;&nbsp;&nbsp; b) {, x} <br>\n",
    " &nbsp;&nbsp;&nbsp;&nbsp; c) {?} <br>\n",
    " &nbsp;&nbsp;&nbsp;&nbsp; d) {*} <br>\n",
    " &nbsp;&nbsp;&nbsp;&nbsp; e) {+} <br>\n",
    "5) <b>In-Class Exercise #1</b> <br>\n",
    "6) <b>Escaping Characters</b> <br>\n",
    "7) <b>Grouping</b> <br>\n",
    "8) <b>In-Class Exercise #2</b> <br>\n",
    "9) <b>Opening a File</b> <br>\n",
    " &nbsp;&nbsp;&nbsp;&nbsp; a) open() <br>\n",
    " &nbsp;&nbsp;&nbsp;&nbsp; b) with open() <br>\n",
    " &nbsp;&nbsp;&nbsp;&nbsp; c) re.match() <br>\n",
    " &nbsp;&nbsp;&nbsp;&nbsp; d) re.search() <br>\n",
    " &nbsp;&nbsp;&nbsp;&nbsp; e) Store the String in a Variable <br>\n",
    "10) <b>Regex Project</b> <br>"
   ]
  },
  {
   "cell_type": "markdown",
   "metadata": {},
   "source": [
    "### Importing <br>\n",
    "<p>Regular Expressions are universal throughout most programming languages... They are generally imported through the module 're'.</p>"
   ]
  },
  {
   "cell_type": "code",
   "execution_count": 116,
   "metadata": {},
   "outputs": [],
   "source": [
    "# import re\n",
    "import re"
   ]
  },
  {
   "cell_type": "markdown",
   "metadata": {},
   "source": [
    "### Using Regular Expressions <br>\n",
    "<p>Regular expressions give us the ability to search for patterns within text, strings, files, etc. They serve several uses, such as; security measures, searching, filtering, pattern recognition, and more...</p>"
   ]
  },
  {
   "cell_type": "markdown",
   "metadata": {},
   "source": [
    "##### re.compile()"
   ]
  },
  {
   "cell_type": "code",
   "execution_count": 5,
   "metadata": {},
   "outputs": [
    {
     "name": "stdout",
     "output_type": "stream",
     "text": [
      "re.compile('abcd')\n",
      "<class 're.Pattern'>\n"
     ]
    }
   ],
   "source": [
    "# using compile, pre determines the string to be used in regular expression methods\n",
    "pattern = re.compile('abcd') #lets look for = thing that lets us look(what were looking for)\n",
    "\n",
    "\n",
    "print(pattern)\n",
    "print(type(pattern))"
   ]
  },
  {
   "cell_type": "markdown",
   "metadata": {},
   "source": [
    "##### re.match()"
   ]
  },
  {
   "cell_type": "code",
   "execution_count": 10,
   "metadata": {},
   "outputs": [
    {
     "name": "stdout",
     "output_type": "stream",
     "text": [
      "<re.Match object; span=(0, 4), match='abcd'>\n",
      "<re.Match object; span=(5, 9), match='abcd'>\n"
     ]
    }
   ],
   "source": [
    "match = pattern.match('abcd123')\n",
    "print(match)\n",
    "\n",
    "search = pattern.search('weetrabcdslkg')\n",
    "print(search)\n",
    "\n",
    "# Accessing the span of the match\n",
    "print(match.span()) #from what index to what index it matched\n",
    "print()"
   ]
  },
  {
   "cell_type": "markdown",
   "metadata": {},
   "source": [
    "##### re.findall()"
   ]
  },
  {
   "cell_type": "code",
   "execution_count": 14,
   "metadata": {},
   "outputs": [
    {
     "name": "stdout",
     "output_type": "stream",
     "text": [
      "['abcd', 'abcd', 'abcd']\n",
      "Help on function findall in module re:\n",
      "\n",
      "findall(pattern, string, flags=0)\n",
      "    Return a list of all non-overlapping matches in the string.\n",
      "    \n",
      "    If one or more capturing groups are present in the pattern, return\n",
      "    a list of groups; this will be a list of tuples if the pattern\n",
      "    has more than one group.\n",
      "    \n",
      "    Empty matches are included in the result.\n",
      "\n"
     ]
    }
   ],
   "source": [
    "finders = pattern.findall('123abcd abcd123 abcd abcabc acb')\n",
    "print(finders)\n",
    "help(re.findall)"
   ]
  },
  {
   "cell_type": "markdown",
   "metadata": {},
   "source": [
    "##### re.search()"
   ]
  },
  {
   "cell_type": "code",
   "execution_count": 11,
   "metadata": {},
   "outputs": [
    {
     "name": "stdout",
     "output_type": "stream",
     "text": [
      "<re.Match object; span=(12, 16), match='abcd'>\n",
      "(12, 16) <class 'tuple'>\n",
      "abcd\n",
      "abcd\n"
     ]
    }
   ],
   "source": [
    "#also see .match^^\n",
    "\n",
    "random_string = '123 123 234 abcd abc'\n",
    "\n",
    "search = pattern.search(random_string)\n",
    "print(search)\n",
    "\n",
    "span = search.span()\n",
    "print(span, type(span))\n",
    "print(random_string[span[0] : span[1]])\n",
    "print(random_string[12:16])"
   ]
  },
  {
   "cell_type": "markdown",
   "metadata": {},
   "source": [
    "### Sets <br>\n",
    "<p>The following cells will allow you to use regular expressions to search for certain values within a range such as numbers 1 through 4.</p>"
   ]
  },
  {
   "cell_type": "markdown",
   "metadata": {},
   "source": [
    "##### [a-z] or [A-Z] - any lowercase/uppercase letters from a to z<br/>[^2] - anything that's not 2"
   ]
  },
  {
   "cell_type": "markdown",
   "metadata": {},
   "source": [
    "##### Integer Ranges"
   ]
  },
  {
   "cell_type": "code",
   "execution_count": 3,
   "metadata": {},
   "outputs": [
    {
     "name": "stdout",
     "output_type": "stream",
     "text": [
      "673\n",
      "['673']\n"
     ]
    }
   ],
   "source": [
    "pattern_int = re.compile('[0-7][7-9][0-3]')\n",
    "\n",
    "random_numbers = pattern_int.search('67383')\n",
    "span = random_numbers.span()\n",
    "print(random_numbers[span[0]])\n",
    "\n",
    "find_randoms = pattern_int.findall('67383')\n",
    "print(find_randoms)"
   ]
  },
  {
   "cell_type": "markdown",
   "metadata": {},
   "source": [
    "##### Character Ranges"
   ]
  },
  {
   "cell_type": "code",
   "execution_count": 35,
   "metadata": {},
   "outputs": [
    {
     "name": "stdout",
     "output_type": "stream",
     "text": [
      "['He', 'Th', 'Mr', 'An']\n",
      "Help on function compile in module re:\n",
      "\n",
      "compile(pattern, flags=0)\n",
      "    Compile a regular expression pattern, returning a Pattern object.\n",
      "\n"
     ]
    }
   ],
   "source": [
    "char_pattern = re.compile('[A-Z][a-z]') #first bracket followed by second bracket, ect.\n",
    "#in this examples we're looking for an uppercase letter followed by a lowercase letter- can add a space between the brackets if you want to look for an uppercase letter followed by a space followed by a lowercase letter\n",
    "found = char_pattern.findall('Hello There Mr.Anderson')\n",
    "print(found)\n",
    "help(re.compile)"
   ]
  },
  {
   "cell_type": "markdown",
   "metadata": {},
   "source": [
    "### Counting Occurences"
   ]
  },
  {
   "cell_type": "markdown",
   "metadata": {},
   "source": [
    "##### {x} - something that occurs {num_of_times}"
   ]
  },
  {
   "cell_type": "code",
   "execution_count": 36,
   "metadata": {},
   "outputs": [
    {
     "name": "stdout",
     "output_type": "stream",
     "text": [
      "['An33']\n"
     ]
    }
   ],
   "source": [
    "char_pattern_count = re.compile('[A-Z][a-z][0-3]{2}')\n",
    "\n",
    "found_count = char_pattern_count.findall('Hello Mr. An33derson')\n",
    "print(found_count)"
   ]
  },
  {
   "cell_type": "code",
   "execution_count": 12,
   "metadata": {},
   "outputs": [
    {
     "name": "stdout",
     "output_type": "stream",
     "text": [
      "['Hello ', 'There ']\n",
      "Help on function compile in module re:\n",
      "\n",
      "compile(pattern, flags=0)\n",
      "    Compile a regular expression pattern, returning a Pattern object.\n",
      "\n"
     ]
    }
   ],
   "source": [
    "char_pattern = re.compile('[A-Z][a-z]{4} ') #{} in this example the {4} indecates that there has to be 4 lowercase letters after an uppercase letter- if we add a space after the {} then it will also look for the space which then makes it only looking for 5 letter words starting with an uppercase letter\n",
    "found = char_pattern.findall('Hello There Mr.Anderson')\n",
    "print(found)\n",
    "help(re.compile)"
   ]
  },
  {
   "cell_type": "markdown",
   "metadata": {},
   "source": [
    "##### {x, x} - something that occurs between x and x times"
   ]
  },
  {
   "cell_type": "code",
   "execution_count": 37,
   "metadata": {},
   "outputs": [
    {
     "name": "stdout",
     "output_type": "stream",
     "text": [
      "['m', 'm', 'm', 'mmm', 'mmmmm']\n"
     ]
    }
   ],
   "source": [
    "random_pattern = re.compile('m{1,5}')\n",
    "random_statement = random_pattern.findall('This is an example of a regular expression trying to find one m, more than one mmm or five mmmmms ')\n",
    "print(random_statement)"
   ]
  },
  {
   "cell_type": "markdown",
   "metadata": {},
   "source": [
    "##### ? - something that occurs 0 or 1 time"
   ]
  },
  {
   "cell_type": "code",
   "execution_count": 118,
   "metadata": {},
   "outputs": [
    {
     "name": "stdout",
     "output_type": "stream",
     "text": [
      "['Hello', 'ther', 'e', 'Mr', 'Ander', 'son', 'Mid', 'how', 'is', 'Mrs', 'Ander', 'son', 'and', 'Ms', 'Ander', 'son']\n"
     ]
    }
   ],
   "source": [
    "pattern = re.compile('[A-Z]?[a-z]{1,4}')#?makes the capital letter optional\n",
    "\n",
    "found_pat = pattern.findall('Hello M there Mr.Anderson, Mid how is Mrs.Anderson, and Ms.Anderson?')\n",
    "print(found_pat)"
   ]
  },
  {
   "cell_type": "markdown",
   "metadata": {},
   "source": [
    "##### * - something that occurs at least 0 times"
   ]
  },
  {
   "cell_type": "code",
   "execution_count": 4,
   "metadata": {},
   "outputs": [
    {
     "name": "stdout",
     "output_type": "stream",
     "text": [
      "['MMMs', 's', 'Ms', 's', 's', 'Ms', 's', 's', 's', 's', 's', 's', 's']\n"
     ]
    }
   ],
   "source": [
    "pattern_m = re.compile('M*s')\n",
    "\n",
    "found_m = pattern_m.findall('MMMs name is Ms.Smith. This is Mssssssss')\n",
    "print(found_m)"
   ]
  },
  {
   "cell_type": "markdown",
   "metadata": {},
   "source": [
    "##### + - something that occurs at least once"
   ]
  },
  {
   "cell_type": "code",
   "execution_count": 59,
   "metadata": {},
   "outputs": [
    {
     "name": "stdout",
     "output_type": "stream",
     "text": [
      "['Ms', 'MMMMMMMMs']\n"
     ]
    }
   ],
   "source": [
    "pattern_again = re.compile('M+s')\n",
    "\n",
    "found_patt = pattern_again.findall('My name is Ms.Smith. This is MMMMMMMMssssssssss')\n",
    "print(found_patt)"
   ]
  },
  {
   "cell_type": "markdown",
   "metadata": {},
   "source": [
    "##### In-class exercise 1: \n",
    "\n",
    "Use a regular expression to find every number in the given string"
   ]
  },
  {
   "cell_type": "code",
   "execution_count": 61,
   "metadata": {},
   "outputs": [
    {
     "name": "stdout",
     "output_type": "stream",
     "text": [
      "['10909090', '1', '2']\n",
      "['10909090', '1', '2']\n"
     ]
    }
   ],
   "source": [
    "my_string = \"This string has 10909090 numbers, but it is only 1 string. I hope you solve this 2day.\"\n",
    "\n",
    "# Output: ['10909090','1',2]\n",
    "\n",
    "pattern_num = re.compile('[0-9]*[0-9]')\n",
    "\n",
    "found_num = pattern_num.findall(my_string)\n",
    "print(found_num)\n",
    "\n",
    "pattern_num_second = re.compile('[0-9]+')\n",
    "\n",
    "found_num_second = pattern_num_second.findall(my_string)\n",
    "print(found_num_second)\n"
   ]
  },
  {
   "cell_type": "markdown",
   "metadata": {},
   "source": [
    "### Escaping Characters"
   ]
  },
  {
   "cell_type": "markdown",
   "metadata": {},
   "source": [
    "##### \\w - look for any Unicode character<br/>\\W - look for anything that isnt a Unicode character\n",
    "\n",
    "[History on Unicode](http://unicode.org/standard/WhatIsUnicode.html)\n",
    "\n",
    "[More on Unicode Characters](https://en.wikipedia.org/wiki/List_of_Unicode_characters)"
   ]
  },
  {
   "cell_type": "code",
   "execution_count": 62,
   "metadata": {},
   "outputs": [
    {
     "name": "stdout",
     "output_type": "stream",
     "text": [
      "['This', 'is', 'a', 'sentance', 'With', 'an', 'exclamation', 'mark', 'at', 'the', 'end']\n",
      "[' ', ' ', ' ', '. ', ' ', ', ', ' ', ' ', ' ', ' ', '!']\n"
     ]
    }
   ],
   "source": [
    "pattern_1 = re.compile('[\\w]+')#finds words and number\n",
    "pattern_2 = re.compile('[\\W]+')#finds special characters, spaces, punctuation, ect\n",
    "\n",
    "found_1 = pattern_1.findall('This is a sentance. With an, exclamation mark at the end!')\n",
    "found_2 = pattern_2.findall('This is a sentance. With an, exclamation mark at the end!')\n",
    "print(found_1)\n",
    "print(found_2)"
   ]
  },
  {
   "cell_type": "markdown",
   "metadata": {},
   "source": [
    "##### \\d - look for any digit 0-9<br/>\\D - look for anything that isnt a digit"
   ]
  },
  {
   "cell_type": "code",
   "execution_count": 14,
   "metadata": {},
   "outputs": [
    {
     "name": "stdout",
     "output_type": "stream",
     "text": [
      "['7', '2', '0', '2', '7', '3', '1', '3', '0']\n",
      "['Today is the ', 'th, in ', 'days it will be the ', 'th. ', 'rd,', 'st,', 'th']\n"
     ]
    }
   ],
   "source": [
    "pattern1 = re.compile('\\d')\n",
    "pattern2 = re.compile('\\D+')\n",
    "\n",
    "sentance= 'Today is the 7th, in 20days it will be the 27th. 3rd,1st,30th'\n",
    "\n",
    "found1 = pattern1.findall(sentance)\n",
    "found2 = pattern2.findall(sentance)\n",
    "print(found1)\n",
    "print(found2)"
   ]
  },
  {
   "cell_type": "markdown",
   "metadata": {},
   "source": [
    "##### \\s - look for any white space<br/>\\S - look for anything that isnt whitespace"
   ]
  },
  {
   "cell_type": "code",
   "execution_count": 72,
   "metadata": {},
   "outputs": [
    {
     "name": "stdout",
     "output_type": "stream",
     "text": [
      "[' ', ' ', ' ', ' ', ' ']\n",
      "['Are', 'you', 'afraid', 'of', 'the', 'dark']\n"
     ]
    }
   ],
   "source": [
    "pattern_no_space = re.compile('\\S[a-z]+')\n",
    "pattern_space = re.compile('\\s+')\n",
    "found_space = pattern_space.findall('Are you afraid of the dark?')\n",
    "                                     \n",
    "print(found_space)\n",
    "\n",
    "found_dark = pattern_no_space.findall('Are you afraid of the dark?')\n",
    "\n",
    "print(found_dark)\n",
    "\n",
    "#see above for better syntax"
   ]
  },
  {
   "cell_type": "markdown",
   "metadata": {},
   "source": [
    "##### \\b - look for boundaries or edges of a word<br/>\\B - look for anything that isnt a boundary"
   ]
  },
  {
   "cell_type": "code",
   "execution_count": 15,
   "metadata": {},
   "outputs": [
    {
     "ename": "SyntaxError",
     "evalue": "unterminated string literal (detected at line 5) (934733140.py, line 5)",
     "output_type": "error",
     "traceback": [
      "\u001b[1;36m  Cell \u001b[1;32mIn[15], line 5\u001b[1;36m\u001b[0m\n\u001b[1;33m    pattern_bounded = re.compile(r'\\bshoha\\b)\u001b[0m\n\u001b[1;37m                                 ^\u001b[0m\n\u001b[1;31mSyntaxError\u001b[0m\u001b[1;31m:\u001b[0m unterminated string literal (detected at line 5)\n"
     ]
    }
   ],
   "source": [
    "#spaces are considered a boundery\n",
    "\n",
    "#test = r'shoha\\b' #looking for a string with a space after shoha\n",
    "#^have to make it an r string so that it doesnt think youre trying to backspace\n",
    "pattern_bounded = re.compile(r'\\bshoha\\b)\n",
    "pattern_unbounded = re.compile(r'\\bshoha\\b)\n",
    "                               \n",
    "test_string = 'shoha tsuchida'\n",
    "\n",
    "matches1 = pattern_bounded.findall(test_string)                               \n",
    "matches2 = pattern_unbounded.finall(test_string)\n",
    "                                   \n",
    "print(matches1)\n",
    "print(matches2)                               "
   ]
  },
  {
   "cell_type": "markdown",
   "metadata": {},
   "source": [
    "### Grouping"
   ]
  },
  {
   "cell_type": "code",
   "execution_count": 34,
   "metadata": {},
   "outputs": [
    {
     "name": "stdout",
     "output_type": "stream",
     "text": [
      "[('Max', 'Smith'), ('Sam', 'Darnold'), ('LeBron', 'James'), ('Micheal', 'Jordan'), ('Kevin', 'Durant'), ('Patrick', 'McCormick')]\n",
      "Max\n",
      "Not a name\n",
      "Sam\n",
      "Micheal\n",
      "Kevin\n",
      "Patrick\n"
     ]
    }
   ],
   "source": [
    "#HW\n",
    "\n",
    "my_string_again = \"Max Smith, aaron rodgers, Sam Darnold,LeBron James, Micheal Jordan, Kevin Durant, Patrick McCormick\"\n",
    "\n",
    "# Group of names Regular Expression Compiler// MAKING SURE ITS A REAL NAME \n",
    "pattern_name = re.compile('(?P<first_name>[A-Z][a-zA-Z]+) (?P<last_name>[A-Z][a-zA-Z]+)')#I WANT A CAP LETTER FOLLOWED BY LOWERCASE LETTERS FOLLOWED BY UPPER LETTERS \n",
    "#^ANYTHING IN () IS A GROUP\n",
    "found_names = pattern_name.findall(my_string_again)\n",
    "print(found_names)\n",
    "\n",
    "#SPLITTING INTO GROUPS\n",
    "for name in my_string_again.split(', '): #NEEDS A FOR LOOP TO KEEP LOOKING AFTER IT FOUND THE FIRST INSTANCE\n",
    "    match = pattern_name.search(name)\n",
    "    \n",
    "    if match:\n",
    "        print(match.group('first_name'))\n",
    "    else:\n",
    "        print(\"Not a name\")"
   ]
  },
  {
   "cell_type": "markdown",
   "metadata": {},
   "source": [
    "##### In-class Exercise 2:\n",
    "\n",
    "Write a function using regular expressions to find the domain name in the given email addresses (and return None for the invalid email addresses)<br><b>HINT: Use '|' for either or</b>"
   ]
  },
  {
   "cell_type": "code",
   "execution_count": 55,
   "metadata": {},
   "outputs": [
    {
     "name": "stdout",
     "output_type": "stream",
     "text": [
      "None\n",
      "pocohontas1776@gmail.com\n",
      "None\n",
      "yourfavoriteband@g6.org\n",
      "None\n",
      "pearl@abl.gov\n"
     ]
    }
   ],
   "source": [
    "my_emails = [\"jordanw@codingtemple.orgcom\", \"pocohontas1776@gmail.com\", \"helloworld@aol..com\",\n",
    "             \"yourfavoriteband@g6.org\", \"@codingtemple.com\", 'pearl@abl.gov']\n",
    "\n",
    "# You can also use the $ at the end of your compile expression -- this stops the search, so if anything is after it it makes it invalid\n",
    "\n",
    "#.com OR .org => com|org\n",
    "\n",
    "#Expected output:\n",
    "#None\n",
    "#pocohontas1776@gmail.com\n",
    "#None\n",
    "#yourfavoriteband@g6.org\n",
    "#None\n",
    "\n",
    "def validateEmail(email): #\\w = A-Za-z0-9 = all letters and numbers\n",
    "    pattern = re.compile(\"([\\w]+)@([A-Za-z0-9]+)(.com|.org|.gov)$\")#can move the . outside the () if wanted\n",
    "    #^is where you would add group names \n",
    "    if pattern.match(email):\n",
    "        return email\n",
    "    else:\n",
    "        return None\n",
    "    \n",
    "for email in my_emails:\n",
    "    print(validateEmail(email))\n",
    "\n",
    "    \n",
    "email pattern = \"([\\w]+)@([A-Za-z0-9]+)(.com|.org|.gov)$\""
   ]
  },
  {
   "cell_type": "markdown",
   "metadata": {},
   "source": [
    "### Opening a File <br>\n",
    "<p>Python gives us a couple ways to import files, below are the two used most often.</p>"
   ]
  },
  {
   "cell_type": "markdown",
   "metadata": {},
   "source": [
    "##### open()"
   ]
  },
  {
   "cell_type": "code",
   "execution_count": 65,
   "metadata": {},
   "outputs": [
    {
     "name": "stdout",
     "output_type": "stream",
     "text": [
      "Hawkins, Derek\tderek@codingtemple.com\t(555) 555-5555\tTeacher, Coding Temple\t@derekhawkins\n",
      "Zhai, Mo\tmozhai@codingtemple.com\t(555) 555-5554\tTeacher, Coding Temple\n",
      "Johnson, Joe\tjoejohnson@codingtemple.com\t\tJohson, Joe\n",
      "Osterberg, Sven-Erik\tgovernor@norrbotten.co.se\t\tGovernor, Norrbotten\t@sverik\n",
      ", Tim\ttim@killerrabbit.com\t\tEnchanter, Killer Rabbit Cave\n",
      "Butz, Ryan\tryanb@codingtemple.com\t(555) 555-5543\tCEO, Coding Temple\t@ryanbutz\n",
      "Doctor, The\tdoctor+companion@tardis.co.uk\t\tTime Lord, Gallifrey\n",
      "Exampleson, Example\tme@example.com\t555-555-5552\tExample, Example Co.\t@example\n",
      "Pael, Ripal\tripalp@codingtemple.com\t(555) 555-5553\tTeacher, Coding Temple\t@ripalp\n",
      "Vader, Darth\tdarth-vader@empire.gov\t(555) 555-4444\tSith Lord, Galactic Empire\t@darthvader\n",
      "Fernandez de la Vega Sanz, Maria Teresa\tmtfvs@spain.gov\t\tFirst Deputy Prime Minister, Spanish Gov\n",
      "\n"
     ]
    }
   ],
   "source": [
    "#HW\n",
    "\n",
    "f = open(\"files/names.txt\")\n",
    "\n",
    "data = f.read()\n",
    "\n",
    "print(data)\n",
    "\n",
    "f.close()"
   ]
  },
  {
   "cell_type": "markdown",
   "metadata": {},
   "source": [
    "##### with open()"
   ]
  },
  {
   "cell_type": "code",
   "execution_count": 66,
   "metadata": {},
   "outputs": [
    {
     "name": "stdout",
     "output_type": "stream",
     "text": [
      "Hawkins, Derek\tderek@codingtemple.com\t(555) 555-5555\tTeacher, Coding Temple\t@derekhawkins\n",
      "Zhai, Mo\tmozhai@codingtemple.com\t(555) 555-5554\tTeacher, Coding Temple\n",
      "Johnson, Joe\tjoejohnson@codingtemple.com\t\tJohson, Joe\n",
      "Osterberg, Sven-Erik\tgovernor@norrbotten.co.se\t\tGovernor, Norrbotten\t@sverik\n",
      ", Tim\ttim@killerrabbit.com\t\tEnchanter, Killer Rabbit Cave\n",
      "Butz, Ryan\tryanb@codingtemple.com\t(555) 555-5543\tCEO, Coding Temple\t@ryanbutz\n",
      "Doctor, The\tdoctor+companion@tardis.co.uk\t\tTime Lord, Gallifrey\n",
      "Exampleson, Example\tme@example.com\t555-555-5552\tExample, Example Co.\t@example\n",
      "Pael, Ripal\tripalp@codingtemple.com\t(555) 555-5553\tTeacher, Coding Temple\t@ripalp\n",
      "Vader, Darth\tdarth-vader@empire.gov\t(555) 555-4444\tSith Lord, Galactic Empire\t@darthvader\n",
      "Fernandez de la Vega Sanz, Maria Teresa\tmtfvs@spain.gov\t\tFirst Deputy Prime Minister, Spanish Gov\n",
      "\n"
     ]
    }
   ],
   "source": [
    "with open('files/names.txt') as f:\n",
    "    data = f.read()\n",
    "    print(data)\n",
    "#when you unindent, the file closes- prevents you from corrupting the file"
   ]
  },
  {
   "cell_type": "markdown",
   "metadata": {},
   "source": [
    "##### re.match()"
   ]
  },
  {
   "cell_type": "code",
   "execution_count": 67,
   "metadata": {},
   "outputs": [
    {
     "name": "stdout",
     "output_type": "stream",
     "text": [
      "[]\n"
     ]
    }
   ],
   "source": [
    "#another syntax\n",
    "#result = re.findall(pattern, string)\n",
    "\n",
    "#instead of\n",
    "#pattern = re.compile('actual pattern')\n",
    "#pattern.findall(string)\n",
    "#pattern.match(string)\n",
    "\n",
    "#print(re.match(r\"Hawkins, Derek\", data))\n",
    "\n",
    "emails = re.findall(r'(?P<first_name>[A-Z][a-zA-Z]+) (?P<last_name>[A-Z][a-zA-Z]+).(com|org)\\b', data)\n",
    "print(emails)\n"
   ]
  },
  {
   "cell_type": "markdown",
   "metadata": {},
   "source": [
    "##### re.search()"
   ]
  },
  {
   "cell_type": "code",
   "execution_count": 68,
   "metadata": {},
   "outputs": [
    {
     "name": "stdout",
     "output_type": "stream",
     "text": [
      "<re.Match object; span=(582, 605), match='ripalp@codingtemple.com'>\n"
     ]
    }
   ],
   "source": [
    "print(re.search(r\"ripalp@codingtemple.com\",data))"
   ]
  },
  {
   "cell_type": "markdown",
   "metadata": {},
   "source": [
    "##### Store the String to a Variable"
   ]
  },
  {
   "cell_type": "code",
   "execution_count": 69,
   "metadata": {},
   "outputs": [
    {
     "name": "stdout",
     "output_type": "stream",
     "text": [
      "What would you like to search for?... qa\n",
      "It's a no from me boss...\n"
     ]
    }
   ],
   "source": [
    "answer = input(\"What would you like to search for?... \")\n",
    "\n",
    "found = re.findall(answer,data)\n",
    "\n",
    "if found:\n",
    "    print(f\"I found your data: {found}\")\n",
    "else:\n",
    "    print(\"It's a no from me boss...\")\n",
    "    \n"
   ]
  },
  {
   "cell_type": "markdown",
   "metadata": {},
   "source": [
    "### In-Class Exercise #3 <br>\n",
    "<p>Print each persons name and twitter handle, using groups, should look like:</p>\n",
    "<p>==============<br>\n",
    "   Full Name / Twitter<br>\n",
    "   ==============</p>\n",
    "Derek Hawkins / @derekhawkins\n",
    "\n",
    " Erik Sven-Osterberg / @sverik\n",
    "\n",
    " Ryan Butz / @ryanbutz\n",
    "\n",
    " Example Exampleson / @example\n",
    "\n",
    " Ripal Pael / @ripalp\n",
    "\n",
    " Darth Vader / @darthvader"
   ]
  },
  {
   "cell_type": "code",
   "execution_count": 153,
   "metadata": {
    "scrolled": true
   },
   "outputs": [
    {
     "name": "stdout",
     "output_type": "stream",
     "text": [
      "Hawkins, Derek\tderek@codingtemple.com\t(555) 555-5555\tTeacher, Coding Temple\t@derekhawkins\n",
      "\n",
      "\n",
      " Derek Hawkins / @derekhawkins\n",
      "\n",
      " Erik Sven-Osterberg / @sverik\n",
      "\n",
      " Ryan Butz / @ryanbutz\n",
      "\n",
      " Example Exampleson / @example\n",
      "\n",
      " Ripal Pael / @ripalp\n",
      "\n",
      " Darth Vader / @darthvader\n"
     ]
    }
   ],
   "source": [
    "with open(\"files/names.txt\")as f:\n",
    "    data = f.readlines()\n",
    "    print(data[0])\n",
    "\n",
    "pattern = re.compile(\"([A-Z][a-z]+), ([\\w -]*)([A-Z][a-z]+).*\\s(@[a-zA-Z0-9]+$)\")\n",
    "\n",
    "for person in data:\n",
    "    match = pattern.search(person)\n",
    "    \n",
    "    if match:\n",
    "        print('\\n', f\"{match.group(3)} {match.group(2)}{match.group(1)} / {match.group(4)}\")"
   ]
  },
  {
   "cell_type": "markdown",
   "metadata": {},
   "source": [
    "### Regex project\n",
    "\n",
    "Use python to read the file regex_test.txt and print the last name on each line using regular expressions and groups (return None for names with no first and last name, or names that aren't properly capitalized)\n",
    "##### Hint: use with open() and readlines()"
   ]
  },
  {
   "cell_type": "code",
   "execution_count": 126,
   "metadata": {},
   "outputs": [],
   "source": [
    "#\"\"\"\n",
    "#Expected Output\n",
    "#Abraham Lincoln\n",
    "#Andrew P Garfield\n",
    "#Connor Milliken\n",
    "#Jordan Alexander Williams\n",
    "#None\n",
    "#None\n",
    "#\"\"\"\n",
    "\n"
   ]
  },
  {
   "cell_type": "code",
   "execution_count": 169,
   "metadata": {},
   "outputs": [
    {
     "name": "stdout",
     "output_type": "stream",
     "text": [
      "['Abraham Lincoln\\n', 'Andrew P Garfield\\n', 'Connor Milliken\\n', 'Jordan Alexander Williams\\n', 'Madonna\\n', 'programming is cool\\n']\n",
      "Lincoln\n",
      "Garfield\n",
      "Milliken\n",
      "Williams\n",
      "None\n",
      "None\n"
     ]
    }
   ],
   "source": [
    "with open(\"files/regex_test.txt\")as f:\n",
    "    data = f.readlines()\n",
    "    print(data)\n",
    "\n",
    "pattern = re.compile(\"(?P<first_name>[A-Z][a-zA-Z]+) ?(?P<middle_name>[a-zA-Z]+)? (?P<last_name>[A-Z][a-zA-Z]+)\")\n",
    "#person = pattern.findall(data)\n",
    "\n",
    "for person in data:\n",
    "    match = pattern.search(person)\n",
    "    \n",
    "    if match:\n",
    "        print(match.group(3))\n",
    "    else: \n",
    "        print(None)\n",
    "\n",
    "    \n"
   ]
  },
  {
   "cell_type": "code",
   "execution_count": null,
   "metadata": {},
   "outputs": [],
   "source": []
  }
 ],
 "metadata": {
  "kernelspec": {
   "display_name": "Python 3 (ipykernel)",
   "language": "python",
   "name": "python3"
  },
  "language_info": {
   "codemirror_mode": {
    "name": "ipython",
    "version": 3
   },
   "file_extension": ".py",
   "mimetype": "text/x-python",
   "name": "python",
   "nbconvert_exporter": "python",
   "pygments_lexer": "ipython3",
   "version": "3.11.4"
  }
 },
 "nbformat": 4,
 "nbformat_minor": 2
}
